{
 "cells": [
  {
   "cell_type": "markdown",
   "id": "b8e7b4dd",
   "metadata": {
    "papermill": {
     "duration": 0.009357,
     "end_time": "2024-07-18T09:48:10.595565",
     "exception": false,
     "start_time": "2024-07-18T09:48:10.586208",
     "status": "completed"
    },
    "tags": []
   },
   "source": [
    "# **1. Import Libaries**"
   ]
  },
  {
   "cell_type": "code",
   "execution_count": 1,
   "id": "d2699d65",
   "metadata": {
    "_cell_guid": "b1076dfc-b9ad-4769-8c92-a6c4dae69d19",
    "_uuid": "8f2839f25d086af736a60e9eeb907d3b93b6e0e5",
    "execution": {
     "iopub.execute_input": "2024-07-18T09:48:10.616936Z",
     "iopub.status.busy": "2024-07-18T09:48:10.616487Z",
     "iopub.status.idle": "2024-07-18T09:48:29.614019Z",
     "shell.execute_reply": "2024-07-18T09:48:29.612658Z"
    },
    "papermill": {
     "duration": 19.010954,
     "end_time": "2024-07-18T09:48:29.616458",
     "exception": false,
     "start_time": "2024-07-18T09:48:10.605504",
     "status": "completed"
    },
    "tags": []
   },
   "outputs": [
    {
     "name": "stderr",
     "output_type": "stream",
     "text": [
      "2024-07-18 09:48:16.232423: E external/local_xla/xla/stream_executor/cuda/cuda_dnn.cc:9261] Unable to register cuDNN factory: Attempting to register factory for plugin cuDNN when one has already been registered\n",
      "2024-07-18 09:48:16.232613: E external/local_xla/xla/stream_executor/cuda/cuda_fft.cc:607] Unable to register cuFFT factory: Attempting to register factory for plugin cuFFT when one has already been registered\n",
      "2024-07-18 09:48:16.553324: E external/local_xla/xla/stream_executor/cuda/cuda_blas.cc:1515] Unable to register cuBLAS factory: Attempting to register factory for plugin cuBLAS when one has already been registered\n"
     ]
    }
   ],
   "source": [
    "import numpy as np\n",
    "from PIL import Image\n",
    "import matplotlib.pyplot as plt\n",
    "%matplotlib inline\n",
    "import pandas as pd\n",
    "import random\n",
    "from sklearn.model_selection import train_test_split\n",
    "from sklearn.metrics import confusion_matrix\n",
    "from tensorflow.keras.utils import to_categorical\n",
    "from tensorflow.keras.models import Sequential\n",
    "from tensorflow.keras.layers import Conv2D, MaxPool2D, Flatten, Dense, Dropout, BatchNormalization, Input\n",
    "from tensorflow.keras.optimizers import Adam\n",
    "from tensorflow.keras.preprocessing.image import ImageDataGenerator\n",
    "from tensorflow.keras.callbacks import LearningRateScheduler \n",
    "from PIL import Image\n",
    "import itertools\n",
    "import warnings\n",
    "warnings.filterwarnings('ignore')"
   ]
  },
  {
   "cell_type": "markdown",
   "id": "d9609d37",
   "metadata": {
    "papermill": {
     "duration": 0.008812,
     "end_time": "2024-07-18T09:48:29.634680",
     "exception": false,
     "start_time": "2024-07-18T09:48:29.625868",
     "status": "completed"
    },
    "tags": []
   },
   "source": [
    "# **2. Load Data**"
   ]
  },
  {
   "cell_type": "code",
   "execution_count": 2,
   "id": "726bf6a9",
   "metadata": {
    "execution": {
     "iopub.execute_input": "2024-07-18T09:48:29.654737Z",
     "iopub.status.busy": "2024-07-18T09:48:29.654036Z",
     "iopub.status.idle": "2024-07-18T09:48:29.659691Z",
     "shell.execute_reply": "2024-07-18T09:48:29.658481Z"
    },
    "papermill": {
     "duration": 0.018291,
     "end_time": "2024-07-18T09:48:29.661954",
     "exception": false,
     "start_time": "2024-07-18T09:48:29.643663",
     "status": "completed"
    },
    "tags": []
   },
   "outputs": [],
   "source": [
    "train_file = \"/kaggle/input/digit-recognizer/train.csv\"\n",
    "test_file = \"/kaggle/input/digit-recognizer/test.csv\"\n",
    "output_file = \"/kaggle/input/digit-recognizer/sample_submission.csv\""
   ]
  },
  {
   "cell_type": "code",
   "execution_count": 3,
   "id": "82ea0102",
   "metadata": {
    "execution": {
     "iopub.execute_input": "2024-07-18T09:48:29.683198Z",
     "iopub.status.busy": "2024-07-18T09:48:29.682775Z",
     "iopub.status.idle": "2024-07-18T09:48:33.397442Z",
     "shell.execute_reply": "2024-07-18T09:48:33.396345Z"
    },
    "papermill": {
     "duration": 3.727491,
     "end_time": "2024-07-18T09:48:33.399859",
     "exception": false,
     "start_time": "2024-07-18T09:48:29.672368",
     "status": "completed"
    },
    "tags": []
   },
   "outputs": [
    {
     "name": "stdout",
     "output_type": "stream",
     "text": [
      "(42000, 785)\n"
     ]
    },
    {
     "data": {
      "text/html": [
       "<div>\n",
       "<style scoped>\n",
       "    .dataframe tbody tr th:only-of-type {\n",
       "        vertical-align: middle;\n",
       "    }\n",
       "\n",
       "    .dataframe tbody tr th {\n",
       "        vertical-align: top;\n",
       "    }\n",
       "\n",
       "    .dataframe thead th {\n",
       "        text-align: right;\n",
       "    }\n",
       "</style>\n",
       "<table border=\"1\" class=\"dataframe\">\n",
       "  <thead>\n",
       "    <tr style=\"text-align: right;\">\n",
       "      <th></th>\n",
       "      <th>label</th>\n",
       "      <th>pixel0</th>\n",
       "      <th>pixel1</th>\n",
       "      <th>pixel2</th>\n",
       "      <th>pixel3</th>\n",
       "      <th>pixel4</th>\n",
       "      <th>pixel5</th>\n",
       "      <th>pixel6</th>\n",
       "      <th>pixel7</th>\n",
       "      <th>pixel8</th>\n",
       "      <th>...</th>\n",
       "      <th>pixel774</th>\n",
       "      <th>pixel775</th>\n",
       "      <th>pixel776</th>\n",
       "      <th>pixel777</th>\n",
       "      <th>pixel778</th>\n",
       "      <th>pixel779</th>\n",
       "      <th>pixel780</th>\n",
       "      <th>pixel781</th>\n",
       "      <th>pixel782</th>\n",
       "      <th>pixel783</th>\n",
       "    </tr>\n",
       "  </thead>\n",
       "  <tbody>\n",
       "    <tr>\n",
       "      <th>0</th>\n",
       "      <td>1</td>\n",
       "      <td>0</td>\n",
       "      <td>0</td>\n",
       "      <td>0</td>\n",
       "      <td>0</td>\n",
       "      <td>0</td>\n",
       "      <td>0</td>\n",
       "      <td>0</td>\n",
       "      <td>0</td>\n",
       "      <td>0</td>\n",
       "      <td>...</td>\n",
       "      <td>0</td>\n",
       "      <td>0</td>\n",
       "      <td>0</td>\n",
       "      <td>0</td>\n",
       "      <td>0</td>\n",
       "      <td>0</td>\n",
       "      <td>0</td>\n",
       "      <td>0</td>\n",
       "      <td>0</td>\n",
       "      <td>0</td>\n",
       "    </tr>\n",
       "    <tr>\n",
       "      <th>1</th>\n",
       "      <td>0</td>\n",
       "      <td>0</td>\n",
       "      <td>0</td>\n",
       "      <td>0</td>\n",
       "      <td>0</td>\n",
       "      <td>0</td>\n",
       "      <td>0</td>\n",
       "      <td>0</td>\n",
       "      <td>0</td>\n",
       "      <td>0</td>\n",
       "      <td>...</td>\n",
       "      <td>0</td>\n",
       "      <td>0</td>\n",
       "      <td>0</td>\n",
       "      <td>0</td>\n",
       "      <td>0</td>\n",
       "      <td>0</td>\n",
       "      <td>0</td>\n",
       "      <td>0</td>\n",
       "      <td>0</td>\n",
       "      <td>0</td>\n",
       "    </tr>\n",
       "    <tr>\n",
       "      <th>2</th>\n",
       "      <td>1</td>\n",
       "      <td>0</td>\n",
       "      <td>0</td>\n",
       "      <td>0</td>\n",
       "      <td>0</td>\n",
       "      <td>0</td>\n",
       "      <td>0</td>\n",
       "      <td>0</td>\n",
       "      <td>0</td>\n",
       "      <td>0</td>\n",
       "      <td>...</td>\n",
       "      <td>0</td>\n",
       "      <td>0</td>\n",
       "      <td>0</td>\n",
       "      <td>0</td>\n",
       "      <td>0</td>\n",
       "      <td>0</td>\n",
       "      <td>0</td>\n",
       "      <td>0</td>\n",
       "      <td>0</td>\n",
       "      <td>0</td>\n",
       "    </tr>\n",
       "    <tr>\n",
       "      <th>3</th>\n",
       "      <td>4</td>\n",
       "      <td>0</td>\n",
       "      <td>0</td>\n",
       "      <td>0</td>\n",
       "      <td>0</td>\n",
       "      <td>0</td>\n",
       "      <td>0</td>\n",
       "      <td>0</td>\n",
       "      <td>0</td>\n",
       "      <td>0</td>\n",
       "      <td>...</td>\n",
       "      <td>0</td>\n",
       "      <td>0</td>\n",
       "      <td>0</td>\n",
       "      <td>0</td>\n",
       "      <td>0</td>\n",
       "      <td>0</td>\n",
       "      <td>0</td>\n",
       "      <td>0</td>\n",
       "      <td>0</td>\n",
       "      <td>0</td>\n",
       "    </tr>\n",
       "    <tr>\n",
       "      <th>4</th>\n",
       "      <td>0</td>\n",
       "      <td>0</td>\n",
       "      <td>0</td>\n",
       "      <td>0</td>\n",
       "      <td>0</td>\n",
       "      <td>0</td>\n",
       "      <td>0</td>\n",
       "      <td>0</td>\n",
       "      <td>0</td>\n",
       "      <td>0</td>\n",
       "      <td>...</td>\n",
       "      <td>0</td>\n",
       "      <td>0</td>\n",
       "      <td>0</td>\n",
       "      <td>0</td>\n",
       "      <td>0</td>\n",
       "      <td>0</td>\n",
       "      <td>0</td>\n",
       "      <td>0</td>\n",
       "      <td>0</td>\n",
       "      <td>0</td>\n",
       "    </tr>\n",
       "  </tbody>\n",
       "</table>\n",
       "<p>5 rows × 785 columns</p>\n",
       "</div>"
      ],
      "text/plain": [
       "   label  pixel0  pixel1  pixel2  pixel3  pixel4  pixel5  pixel6  pixel7  \\\n",
       "0      1       0       0       0       0       0       0       0       0   \n",
       "1      0       0       0       0       0       0       0       0       0   \n",
       "2      1       0       0       0       0       0       0       0       0   \n",
       "3      4       0       0       0       0       0       0       0       0   \n",
       "4      0       0       0       0       0       0       0       0       0   \n",
       "\n",
       "   pixel8  ...  pixel774  pixel775  pixel776  pixel777  pixel778  pixel779  \\\n",
       "0       0  ...         0         0         0         0         0         0   \n",
       "1       0  ...         0         0         0         0         0         0   \n",
       "2       0  ...         0         0         0         0         0         0   \n",
       "3       0  ...         0         0         0         0         0         0   \n",
       "4       0  ...         0         0         0         0         0         0   \n",
       "\n",
       "   pixel780  pixel781  pixel782  pixel783  \n",
       "0         0         0         0         0  \n",
       "1         0         0         0         0  \n",
       "2         0         0         0         0  \n",
       "3         0         0         0         0  \n",
       "4         0         0         0         0  \n",
       "\n",
       "[5 rows x 785 columns]"
      ]
     },
     "execution_count": 3,
     "metadata": {},
     "output_type": "execute_result"
    }
   ],
   "source": [
    "#Train Data\n",
    "import pandas as pd\n",
    "train = pd.read_csv(\"/kaggle/input/digit-recognizer/train.csv\")\n",
    "print(train.shape)\n",
    "train.head()"
   ]
  },
  {
   "cell_type": "code",
   "execution_count": 4,
   "id": "38ca9a6a",
   "metadata": {
    "execution": {
     "iopub.execute_input": "2024-07-18T09:48:33.421988Z",
     "iopub.status.busy": "2024-07-18T09:48:33.421605Z",
     "iopub.status.idle": "2024-07-18T09:48:35.372016Z",
     "shell.execute_reply": "2024-07-18T09:48:35.370813Z"
    },
    "papermill": {
     "duration": 1.963722,
     "end_time": "2024-07-18T09:48:35.374603",
     "exception": false,
     "start_time": "2024-07-18T09:48:33.410881",
     "status": "completed"
    },
    "tags": []
   },
   "outputs": [
    {
     "name": "stdout",
     "output_type": "stream",
     "text": [
      "(28000, 784)\n"
     ]
    },
    {
     "data": {
      "text/html": [
       "<div>\n",
       "<style scoped>\n",
       "    .dataframe tbody tr th:only-of-type {\n",
       "        vertical-align: middle;\n",
       "    }\n",
       "\n",
       "    .dataframe tbody tr th {\n",
       "        vertical-align: top;\n",
       "    }\n",
       "\n",
       "    .dataframe thead th {\n",
       "        text-align: right;\n",
       "    }\n",
       "</style>\n",
       "<table border=\"1\" class=\"dataframe\">\n",
       "  <thead>\n",
       "    <tr style=\"text-align: right;\">\n",
       "      <th></th>\n",
       "      <th>pixel0</th>\n",
       "      <th>pixel1</th>\n",
       "      <th>pixel2</th>\n",
       "      <th>pixel3</th>\n",
       "      <th>pixel4</th>\n",
       "      <th>pixel5</th>\n",
       "      <th>pixel6</th>\n",
       "      <th>pixel7</th>\n",
       "      <th>pixel8</th>\n",
       "      <th>pixel9</th>\n",
       "      <th>...</th>\n",
       "      <th>pixel774</th>\n",
       "      <th>pixel775</th>\n",
       "      <th>pixel776</th>\n",
       "      <th>pixel777</th>\n",
       "      <th>pixel778</th>\n",
       "      <th>pixel779</th>\n",
       "      <th>pixel780</th>\n",
       "      <th>pixel781</th>\n",
       "      <th>pixel782</th>\n",
       "      <th>pixel783</th>\n",
       "    </tr>\n",
       "  </thead>\n",
       "  <tbody>\n",
       "    <tr>\n",
       "      <th>0</th>\n",
       "      <td>0</td>\n",
       "      <td>0</td>\n",
       "      <td>0</td>\n",
       "      <td>0</td>\n",
       "      <td>0</td>\n",
       "      <td>0</td>\n",
       "      <td>0</td>\n",
       "      <td>0</td>\n",
       "      <td>0</td>\n",
       "      <td>0</td>\n",
       "      <td>...</td>\n",
       "      <td>0</td>\n",
       "      <td>0</td>\n",
       "      <td>0</td>\n",
       "      <td>0</td>\n",
       "      <td>0</td>\n",
       "      <td>0</td>\n",
       "      <td>0</td>\n",
       "      <td>0</td>\n",
       "      <td>0</td>\n",
       "      <td>0</td>\n",
       "    </tr>\n",
       "    <tr>\n",
       "      <th>1</th>\n",
       "      <td>0</td>\n",
       "      <td>0</td>\n",
       "      <td>0</td>\n",
       "      <td>0</td>\n",
       "      <td>0</td>\n",
       "      <td>0</td>\n",
       "      <td>0</td>\n",
       "      <td>0</td>\n",
       "      <td>0</td>\n",
       "      <td>0</td>\n",
       "      <td>...</td>\n",
       "      <td>0</td>\n",
       "      <td>0</td>\n",
       "      <td>0</td>\n",
       "      <td>0</td>\n",
       "      <td>0</td>\n",
       "      <td>0</td>\n",
       "      <td>0</td>\n",
       "      <td>0</td>\n",
       "      <td>0</td>\n",
       "      <td>0</td>\n",
       "    </tr>\n",
       "    <tr>\n",
       "      <th>2</th>\n",
       "      <td>0</td>\n",
       "      <td>0</td>\n",
       "      <td>0</td>\n",
       "      <td>0</td>\n",
       "      <td>0</td>\n",
       "      <td>0</td>\n",
       "      <td>0</td>\n",
       "      <td>0</td>\n",
       "      <td>0</td>\n",
       "      <td>0</td>\n",
       "      <td>...</td>\n",
       "      <td>0</td>\n",
       "      <td>0</td>\n",
       "      <td>0</td>\n",
       "      <td>0</td>\n",
       "      <td>0</td>\n",
       "      <td>0</td>\n",
       "      <td>0</td>\n",
       "      <td>0</td>\n",
       "      <td>0</td>\n",
       "      <td>0</td>\n",
       "    </tr>\n",
       "    <tr>\n",
       "      <th>3</th>\n",
       "      <td>0</td>\n",
       "      <td>0</td>\n",
       "      <td>0</td>\n",
       "      <td>0</td>\n",
       "      <td>0</td>\n",
       "      <td>0</td>\n",
       "      <td>0</td>\n",
       "      <td>0</td>\n",
       "      <td>0</td>\n",
       "      <td>0</td>\n",
       "      <td>...</td>\n",
       "      <td>0</td>\n",
       "      <td>0</td>\n",
       "      <td>0</td>\n",
       "      <td>0</td>\n",
       "      <td>0</td>\n",
       "      <td>0</td>\n",
       "      <td>0</td>\n",
       "      <td>0</td>\n",
       "      <td>0</td>\n",
       "      <td>0</td>\n",
       "    </tr>\n",
       "    <tr>\n",
       "      <th>4</th>\n",
       "      <td>0</td>\n",
       "      <td>0</td>\n",
       "      <td>0</td>\n",
       "      <td>0</td>\n",
       "      <td>0</td>\n",
       "      <td>0</td>\n",
       "      <td>0</td>\n",
       "      <td>0</td>\n",
       "      <td>0</td>\n",
       "      <td>0</td>\n",
       "      <td>...</td>\n",
       "      <td>0</td>\n",
       "      <td>0</td>\n",
       "      <td>0</td>\n",
       "      <td>0</td>\n",
       "      <td>0</td>\n",
       "      <td>0</td>\n",
       "      <td>0</td>\n",
       "      <td>0</td>\n",
       "      <td>0</td>\n",
       "      <td>0</td>\n",
       "    </tr>\n",
       "  </tbody>\n",
       "</table>\n",
       "<p>5 rows × 784 columns</p>\n",
       "</div>"
      ],
      "text/plain": [
       "   pixel0  pixel1  pixel2  pixel3  pixel4  pixel5  pixel6  pixel7  pixel8  \\\n",
       "0       0       0       0       0       0       0       0       0       0   \n",
       "1       0       0       0       0       0       0       0       0       0   \n",
       "2       0       0       0       0       0       0       0       0       0   \n",
       "3       0       0       0       0       0       0       0       0       0   \n",
       "4       0       0       0       0       0       0       0       0       0   \n",
       "\n",
       "   pixel9  ...  pixel774  pixel775  pixel776  pixel777  pixel778  pixel779  \\\n",
       "0       0  ...         0         0         0         0         0         0   \n",
       "1       0  ...         0         0         0         0         0         0   \n",
       "2       0  ...         0         0         0         0         0         0   \n",
       "3       0  ...         0         0         0         0         0         0   \n",
       "4       0  ...         0         0         0         0         0         0   \n",
       "\n",
       "   pixel780  pixel781  pixel782  pixel783  \n",
       "0         0         0         0         0  \n",
       "1         0         0         0         0  \n",
       "2         0         0         0         0  \n",
       "3         0         0         0         0  \n",
       "4         0         0         0         0  \n",
       "\n",
       "[5 rows x 784 columns]"
      ]
     },
     "execution_count": 4,
     "metadata": {},
     "output_type": "execute_result"
    }
   ],
   "source": [
    "#Test Data\n",
    "test= pd.read_csv(\"/kaggle/input/digit-recognizer/test.csv\")\n",
    "print(test.shape)\n",
    "test.head()"
   ]
  },
  {
   "cell_type": "code",
   "execution_count": 5,
   "id": "441fb236",
   "metadata": {
    "execution": {
     "iopub.execute_input": "2024-07-18T09:48:35.397496Z",
     "iopub.status.busy": "2024-07-18T09:48:35.397103Z",
     "iopub.status.idle": "2024-07-18T09:48:35.426095Z",
     "shell.execute_reply": "2024-07-18T09:48:35.424835Z"
    },
    "papermill": {
     "duration": 0.043343,
     "end_time": "2024-07-18T09:48:35.428882",
     "exception": false,
     "start_time": "2024-07-18T09:48:35.385539",
     "status": "completed"
    },
    "tags": []
   },
   "outputs": [
    {
     "data": {
      "text/plain": [
       "count       785\n",
       "unique        1\n",
       "top       False\n",
       "freq        785\n",
       "dtype: object"
      ]
     },
     "execution_count": 5,
     "metadata": {},
     "output_type": "execute_result"
    }
   ],
   "source": [
    "# Check the data\n",
    "train.isnull().any().describe()"
   ]
  },
  {
   "cell_type": "markdown",
   "id": "5cddb406",
   "metadata": {
    "papermill": {
     "duration": 0.009838,
     "end_time": "2024-07-18T09:48:35.449723",
     "exception": false,
     "start_time": "2024-07-18T09:48:35.439885",
     "status": "completed"
    },
    "tags": []
   },
   "source": [
    "# **3. Split Data**"
   ]
  },
  {
   "cell_type": "code",
   "execution_count": 6,
   "id": "7bb2b3b9",
   "metadata": {
    "execution": {
     "iopub.execute_input": "2024-07-18T09:48:35.472234Z",
     "iopub.status.busy": "2024-07-18T09:48:35.471440Z",
     "iopub.status.idle": "2024-07-18T09:48:37.106239Z",
     "shell.execute_reply": "2024-07-18T09:48:37.105216Z"
    },
    "papermill": {
     "duration": 1.648787,
     "end_time": "2024-07-18T09:48:37.108792",
     "exception": false,
     "start_time": "2024-07-18T09:48:35.460005",
     "status": "completed"
    },
    "tags": []
   },
   "outputs": [],
   "source": [
    "raw_data = np.loadtxt(train_file, skiprows=1, dtype='int', delimiter=',')\n",
    "x_train, x_val, y_train, y_val = train_test_split(\n",
    "    raw_data[:,1:], raw_data[:,0], test_size=0.1)"
   ]
  },
  {
   "cell_type": "markdown",
   "id": "ee2522b5",
   "metadata": {
    "papermill": {
     "duration": 0.009521,
     "end_time": "2024-07-18T09:48:37.128215",
     "exception": false,
     "start_time": "2024-07-18T09:48:37.118694",
     "status": "completed"
    },
    "tags": []
   },
   "source": [
    "# **4. Data Visualization**\n"
   ]
  },
  {
   "cell_type": "code",
   "execution_count": 7,
   "id": "8b8e20e3",
   "metadata": {
    "execution": {
     "iopub.execute_input": "2024-07-18T09:48:37.150119Z",
     "iopub.status.busy": "2024-07-18T09:48:37.149723Z",
     "iopub.status.idle": "2024-07-18T09:48:37.482243Z",
     "shell.execute_reply": "2024-07-18T09:48:37.481050Z"
    },
    "papermill": {
     "duration": 0.346488,
     "end_time": "2024-07-18T09:48:37.484955",
     "exception": false,
     "start_time": "2024-07-18T09:48:37.138467",
     "status": "completed"
    },
    "tags": []
   },
   "outputs": [
    {
     "data": {
      "image/png": "[encoded data removed]",
      "text/plain": [
       "<Figure size 800x600 with 1 Axes>"
      ]
     },
     "metadata": {},
     "output_type": "display_data"
    }
   ],
   "source": [
    "unique_classes, counts = np.unique(y_train, return_counts=True)\n",
    "plt.figure(figsize=(8, 6))\n",
    "plt.bar(unique_classes, counts, color='lightblue', alpha=0.7)\n",
    "plt.xlabel('Class')\n",
    "plt.ylabel('Count')\n",
    "plt.title('Class Distribution in Training Data')\n",
    "plt.xticks(unique_classes)\n",
    "plt.show()\n"
   ]
  },
  {
   "cell_type": "markdown",
   "id": "db565ae1",
   "metadata": {
    "papermill": {
     "duration": 0.010286,
     "end_time": "2024-07-18T09:48:37.506409",
     "exception": false,
     "start_time": "2024-07-18T09:48:37.496123",
     "status": "completed"
    },
    "tags": []
   },
   "source": [
    "# **5. Preprocessing**"
   ]
  },
  {
   "cell_type": "markdown",
   "id": "200dd072",
   "metadata": {
    "papermill": {
     "duration": 0.010181,
     "end_time": "2024-07-18T09:48:37.527089",
     "exception": false,
     "start_time": "2024-07-18T09:48:37.516908",
     "status": "completed"
    },
    "tags": []
   },
   "source": [
    "# **5.1. Reshape**"
   ]
  },
  {
   "cell_type": "markdown",
   "id": "9be162dd",
   "metadata": {
    "papermill": {
     "duration": 0.010102,
     "end_time": "2024-07-18T09:48:37.547778",
     "exception": false,
     "start_time": "2024-07-18T09:48:37.537676",
     "status": "completed"
    },
    "tags": []
   },
   "source": [
    "The reshaping of x_train and x_val into 28x28 grayscale images with an additional channel (reshape(-1, 28, 28, 1)) is necessary because Convolutional Neural Networks (CNNs) expect input data to be structured in this format. CNNs are designed to process image data with specific dimensions (height x width x channels), where:\n",
    "\n",
    "* 28x28 specifies the dimensions of each image.\n",
    "* 1 indicates that each image is grayscale, meaning it has a single color channel."
   ]
  },
  {
   "cell_type": "code",
   "execution_count": 8,
   "id": "b4ef267e",
   "metadata": {
    "execution": {
     "iopub.execute_input": "2024-07-18T09:48:37.571116Z",
     "iopub.status.busy": "2024-07-18T09:48:37.570096Z",
     "iopub.status.idle": "2024-07-18T09:48:37.576855Z",
     "shell.execute_reply": "2024-07-18T09:48:37.575651Z"
    },
    "papermill": {
     "duration": 0.020837,
     "end_time": "2024-07-18T09:48:37.579064",
     "exception": false,
     "start_time": "2024-07-18T09:48:37.558227",
     "status": "completed"
    },
    "tags": []
   },
   "outputs": [
    {
     "name": "stdout",
     "output_type": "stream",
     "text": [
      "train shape:  (37800, 28, 28, 1)\n",
      "validation shape:  (4200, 28, 28, 1)\n"
     ]
    }
   ],
   "source": [
    "x_train = x_train.reshape(-1, 28, 28, 1)\n",
    "x_val = x_val.reshape(-1, 28, 28, 1)\n",
    "print(\"train shape: \",x_train.shape)\n",
    "print(\"validation shape: \",x_val.shape)"
   ]
  },
  {
   "cell_type": "markdown",
   "id": "ab847a28",
   "metadata": {
    "papermill": {
     "duration": 0.010244,
     "end_time": "2024-07-18T09:48:37.600387",
     "exception": false,
     "start_time": "2024-07-18T09:48:37.590143",
     "status": "completed"
    },
    "tags": []
   },
   "source": [
    "# **5.2. Normalization**"
   ]
  },
  {
   "cell_type": "markdown",
   "id": "66ede242",
   "metadata": {
    "papermill": {
     "duration": 0.010894,
     "end_time": "2024-07-18T09:48:37.621692",
     "exception": false,
     "start_time": "2024-07-18T09:48:37.610798",
     "status": "completed"
    },
    "tags": []
   },
   "source": [
    "Dividing x_train and x_val by 255 converts pixel values from a range of 0-255 to a scale of 0-1. This normalization step ensures that the neural network can effectively learn from the data, leading to better training performance."
   ]
  },
  {
   "cell_type": "code",
   "execution_count": 9,
   "id": "895a5ef7",
   "metadata": {
    "execution": {
     "iopub.execute_input": "2024-07-18T09:48:37.645423Z",
     "iopub.status.busy": "2024-07-18T09:48:37.645007Z",
     "iopub.status.idle": "2024-07-18T09:48:37.737305Z",
     "shell.execute_reply": "2024-07-18T09:48:37.736198Z"
    },
    "papermill": {
     "duration": 0.107481,
     "end_time": "2024-07-18T09:48:37.739998",
     "exception": false,
     "start_time": "2024-07-18T09:48:37.632517",
     "status": "completed"
    },
    "tags": []
   },
   "outputs": [],
   "source": [
    "x_train = x_train.astype(\"float32\")/255.\n",
    "x_val = x_val.astype(\"float32\")/255."
   ]
  },
  {
   "cell_type": "markdown",
   "id": "f8fbe512",
   "metadata": {
    "papermill": {
     "duration": 0.010216,
     "end_time": "2024-07-18T09:48:37.761127",
     "exception": false,
     "start_time": "2024-07-18T09:48:37.750911",
     "status": "completed"
    },
    "tags": []
   },
   "source": [
    "# **5.3. Encoding labels**"
   ]
  },
  {
   "cell_type": "markdown",
   "id": "e58b21e8",
   "metadata": {
    "papermill": {
     "duration": 0.011231,
     "end_time": "2024-07-18T09:48:37.782838",
     "exception": false,
     "start_time": "2024-07-18T09:48:37.771607",
     "status": "completed"
    },
    "tags": []
   },
   "source": [
    "Using to_categorical converts the label arrays y_train and y_val into categorical format. This transformation is crucial for training models that classify data into multiple classes. It encodes each label as a binary vector, where each position corresponds to a class, ensuring compatibility with neural networks designed for categorical classification tasks."
   ]
  },
  {
   "cell_type": "code",
   "execution_count": 10,
   "id": "cc8a7327",
   "metadata": {
    "execution": {
     "iopub.execute_input": "2024-07-18T09:48:37.807045Z",
     "iopub.status.busy": "2024-07-18T09:48:37.806632Z",
     "iopub.status.idle": "2024-07-18T09:48:37.814543Z",
     "shell.execute_reply": "2024-07-18T09:48:37.813155Z"
    },
    "papermill": {
     "duration": 0.022969,
     "end_time": "2024-07-18T09:48:37.816971",
     "exception": false,
     "start_time": "2024-07-18T09:48:37.794002",
     "status": "completed"
    },
    "tags": []
   },
   "outputs": [
    {
     "name": "stdout",
     "output_type": "stream",
     "text": [
      "[1. 0. 0. 0. 0. 0. 0. 0. 0. 0.]\n"
     ]
    }
   ],
   "source": [
    "y_train = to_categorical(y_train)\n",
    "y_val = to_categorical(y_val)\n",
    "#example:\n",
    "print(y_train[0])"
   ]
  },
  {
   "cell_type": "markdown",
   "id": "4c1865d1",
   "metadata": {
    "papermill": {
     "duration": 0.01126,
     "end_time": "2024-07-18T09:48:37.839061",
     "exception": false,
     "start_time": "2024-07-18T09:48:37.827801",
     "status": "completed"
    },
    "tags": []
   },
   "source": [
    "# **6. Convolutional Neural Network (CNN)**"
   ]
  },
  {
   "cell_type": "markdown",
   "id": "534610ec",
   "metadata": {
    "papermill": {
     "duration": 0.011262,
     "end_time": "2024-07-18T09:48:37.864396",
     "exception": false,
     "start_time": "2024-07-18T09:48:37.853134",
     "status": "completed"
    },
    "tags": []
   },
   "source": [
    "* **Input Layer:** Accepts input images of size 28x28 pixels with 1 channel (grayscale).\n",
    "\n",
    "* **Convolutional Layers:** These layers extract features from the input images using convolution operations. Each Conv2D layer is followed by Batch Normalization to stabilize and accelerate the training process by normalizing the activations. ReLU activation function is used to introduce non-linearity.\n",
    "\n",
    "* **Max Pooling Layers:** After each pair of convolutional layers, MaxPool2D layers downsample the feature maps, reducing their spatial dimensions and thereby reducing computation while preserving important features.\n",
    "\n",
    "* **Dropout Layers:** Dropout is applied after convolutional and dense layers to prevent overfitting by randomly setting a fraction of input units to zero during training.\n",
    "\n",
    "* **Flatten Layer:** Converts the 2D feature maps into a 1D feature vector, preparing the data for the dense layers.\n",
    "\n",
    "* **(Fully Connected) Layers:** These layers perform classification on the features extracted by the convolutional layers. They are densely connected, meaning each neuron in a layer is connected to every neuron in the previous layer. ReLU activation is used in the dense layers to introduce non-linearity.\n",
    "\n",
    "* **Output Layer:** The final layer has 10 neurons (corresponding to 10 classes) and uses softmax activation to output probabilities for each class, making it suitable for multi-class classification tasks."
   ]
  },
  {
   "cell_type": "markdown",
   "id": "2b01137b",
   "metadata": {
    "papermill": {
     "duration": 0.010618,
     "end_time": "2024-07-18T09:48:37.886202",
     "exception": false,
     "start_time": "2024-07-18T09:48:37.875584",
     "status": "completed"
    },
    "tags": []
   },
   "source": [
    "**CNN Architecture**"
   ]
  },
  {
   "cell_type": "markdown",
   "id": "51499168",
   "metadata": {
    "papermill": {
     "duration": 0.010894,
     "end_time": "2024-07-18T09:48:37.907950",
     "exception": false,
     "start_time": "2024-07-18T09:48:37.897056",
     "status": "completed"
    },
    "tags": []
   },
   "source": [
    "<a href=\"https://ibb.co/d4bNkDM\"><img src=\"https://i.ibb.co/jkVC3Df/cnn-1.jpg\" alt=\"cnn-1\" border=\"0\" /></a>"
   ]
  },
  {
   "cell_type": "code",
   "execution_count": 11,
   "id": "b11202d5",
   "metadata": {
    "execution": {
     "iopub.execute_input": "2024-07-18T09:48:37.932506Z",
     "iopub.status.busy": "2024-07-18T09:48:37.932072Z",
     "iopub.status.idle": "2024-07-18T09:48:38.268400Z",
     "shell.execute_reply": "2024-07-18T09:48:38.267061Z"
    },
    "papermill": {
     "duration": 0.351963,
     "end_time": "2024-07-18T09:48:38.271176",
     "exception": false,
     "start_time": "2024-07-18T09:48:37.919213",
     "status": "completed"
    },
    "tags": []
   },
   "outputs": [],
   "source": [
    "from tensorflow.keras.layers import Input\n",
    "\n",
    "model = Sequential()\n",
    "\n",
    "model.add(Input(shape=(28, 28, 1)))\n",
    "model.add(Conv2D(filters=16, kernel_size=(3, 3), activation='relu'))\n",
    "model.add(BatchNormalization())\n",
    "model.add(Conv2D(filters=16, kernel_size=(3, 3), activation='relu'))\n",
    "model.add(BatchNormalization())\n",
    "model.add(MaxPool2D(strides=(2, 2)))\n",
    "model.add(Dropout(0.25))\n",
    "\n",
    "model.add(Conv2D(filters=32, kernel_size=(3, 3), activation='relu'))\n",
    "model.add(BatchNormalization())\n",
    "model.add(Conv2D(filters=32, kernel_size=(3, 3), activation='relu'))\n",
    "model.add(BatchNormalization())\n",
    "model.add(MaxPool2D(strides=(2, 2)))\n",
    "model.add(Dropout(0.25))\n",
    "\n",
    "model.add(Flatten())\n",
    "model.add(Dense(512, activation='relu'))\n",
    "model.add(Dropout(0.25))\n",
    "model.add(Dense(1024, activation='relu'))\n",
    "model.add(Dropout(0.5))\n",
    "model.add(Dense(10, activation='softmax'))\n"
   ]
  },
  {
   "cell_type": "markdown",
   "id": "2f7f13da",
   "metadata": {
    "papermill": {
     "duration": 0.010149,
     "end_time": "2024-07-18T09:48:38.292060",
     "exception": false,
     "start_time": "2024-07-18T09:48:38.281911",
     "status": "completed"
    },
    "tags": []
   },
   "source": [
    "# **6.1 Data Augmentation**"
   ]
  },
  {
   "cell_type": "markdown",
   "id": "fa2013b1",
   "metadata": {
    "papermill": {
     "duration": 0.011042,
     "end_time": "2024-07-18T09:48:38.313862",
     "exception": false,
     "start_time": "2024-07-18T09:48:38.302820",
     "status": "completed"
    },
    "tags": []
   },
   "source": [
    "The ImageDataGenerator is set up to randomly zoom, shift vertically and horizontally, and rotate images slightly during training. This technique, called data augmentation, To prevent overfitting, we simulate real-world variations in handwritten digits by applying minor transformations."
   ]
  },
  {
   "cell_type": "code",
   "execution_count": 12,
   "id": "e27029c5",
   "metadata": {
    "execution": {
     "iopub.execute_input": "2024-07-18T09:48:38.336626Z",
     "iopub.status.busy": "2024-07-18T09:48:38.336180Z",
     "iopub.status.idle": "2024-07-18T09:48:38.341482Z",
     "shell.execute_reply": "2024-07-18T09:48:38.340254Z"
    },
    "papermill": {
     "duration": 0.019388,
     "end_time": "2024-07-18T09:48:38.343776",
     "exception": false,
     "start_time": "2024-07-18T09:48:38.324388",
     "status": "completed"
    },
    "tags": []
   },
   "outputs": [],
   "source": [
    "datagen = ImageDataGenerator(\n",
    "    zoom_range=0.1,              #zoom images\n",
    "    height_shift_range=0.1,      #shift images vertically\n",
    "    width_shift_range=0.1,       # shift images horizontally\n",
    "    rotation_range=10            # rotate images within 10 degrees\n",
    ")"
   ]
  },
  {
   "cell_type": "markdown",
   "id": "6134f58b",
   "metadata": {
    "papermill": {
     "duration": 0.010144,
     "end_time": "2024-07-18T09:48:38.364601",
     "exception": false,
     "start_time": "2024-07-18T09:48:38.354457",
     "status": "completed"
    },
    "tags": []
   },
   "source": [
    "# **6.2 Training**"
   ]
  },
  {
   "cell_type": "markdown",
   "id": "8b861a05",
   "metadata": {
    "papermill": {
     "duration": 0.010021,
     "end_time": "2024-07-18T09:48:38.385123",
     "exception": false,
     "start_time": "2024-07-18T09:48:38.375102",
     "status": "completed"
    },
    "tags": []
   },
   "source": [
    "**Compile the model:** prepares it for training by defining how it measures performance (using categorical crossentropy for multi-class classification), optimizes weights (with Adam optimizer), and evaluates accuracy during training."
   ]
  },
  {
   "cell_type": "code",
   "execution_count": 13,
   "id": "d960f65c",
   "metadata": {
    "execution": {
     "iopub.execute_input": "2024-07-18T09:48:38.408121Z",
     "iopub.status.busy": "2024-07-18T09:48:38.407699Z",
     "iopub.status.idle": "2024-07-18T09:48:38.425438Z",
     "shell.execute_reply": "2024-07-18T09:48:38.424094Z"
    },
    "papermill": {
     "duration": 0.032445,
     "end_time": "2024-07-18T09:48:38.427993",
     "exception": false,
     "start_time": "2024-07-18T09:48:38.395548",
     "status": "completed"
    },
    "tags": []
   },
   "outputs": [],
   "source": [
    "model.compile(\n",
    "    loss='categorical_crossentropy',\n",
    "    optimizer=Adam(learning_rate=1e-4),\n",
    "    metrics=['accuracy']\n",
    ")"
   ]
  },
  {
   "cell_type": "markdown",
   "id": "cd19bc6d",
   "metadata": {
    "papermill": {
     "duration": 0.010131,
     "end_time": "2024-07-18T09:48:38.448982",
     "exception": false,
     "start_time": "2024-07-18T09:48:38.438851",
     "status": "completed"
    },
    "tags": []
   },
   "source": [
    "This **LearningRateScheduler** gradually reduces the learning rate (1e-3) over epochs (x) by multiplying it with 0.9 ** x. It helps the model to stabilize and improve its performance as training progresses."
   ]
  },
  {
   "cell_type": "code",
   "execution_count": 14,
   "id": "5300f905",
   "metadata": {
    "execution": {
     "iopub.execute_input": "2024-07-18T09:48:38.471564Z",
     "iopub.status.busy": "2024-07-18T09:48:38.471163Z",
     "iopub.status.idle": "2024-07-18T09:48:38.476603Z",
     "shell.execute_reply": "2024-07-18T09:48:38.475476Z"
    },
    "papermill": {
     "duration": 0.019176,
     "end_time": "2024-07-18T09:48:38.478733",
     "exception": false,
     "start_time": "2024-07-18T09:48:38.459557",
     "status": "completed"
    },
    "tags": []
   },
   "outputs": [],
   "source": [
    "annealer = LearningRateScheduler(lambda x: 1e-3 * 0.9 ** x)"
   ]
  },
  {
   "cell_type": "code",
   "execution_count": 15,
   "id": "bb7113ee",
   "metadata": {
    "execution": {
     "iopub.execute_input": "2024-07-18T09:48:38.502133Z",
     "iopub.status.busy": "2024-07-18T09:48:38.501714Z",
     "iopub.status.idle": "2024-07-18T09:52:12.341202Z",
     "shell.execute_reply": "2024-07-18T09:52:12.339913Z"
    },
    "papermill": {
     "duration": 213.854374,
     "end_time": "2024-07-18T09:52:12.343617",
     "exception": false,
     "start_time": "2024-07-18T09:48:38.489243",
     "status": "completed"
    },
    "tags": []
   },
   "outputs": [
    {
     "name": "stdout",
     "output_type": "stream",
     "text": [
      "Epoch 1/20\n",
      "500/500 - 15s - 31ms/step - accuracy: 0.7224 - loss: 0.8579 - val_accuracy: 0.9250 - val_loss: 0.2150 - learning_rate: 0.0010\n",
      "Epoch 2/20\n",
      "500/500 - 11s - 23ms/step - accuracy: 0.8993 - loss: 0.3386 - val_accuracy: 0.9700 - val_loss: 0.1106 - learning_rate: 9.0000e-04\n",
      "Epoch 3/20\n",
      "500/500 - 12s - 23ms/step - accuracy: 0.9209 - loss: 0.2610 - val_accuracy: 0.9600 - val_loss: 0.1091 - learning_rate: 8.1000e-04\n",
      "Epoch 4/20\n",
      "500/500 - 12s - 23ms/step - accuracy: 0.9339 - loss: 0.2133 - val_accuracy: 0.9725 - val_loss: 0.0763 - learning_rate: 7.2900e-04\n",
      "Epoch 5/20\n",
      "500/500 - 8s - 17ms/step - accuracy: 0.9471 - loss: 0.1891 - val_accuracy: 0.9675 - val_loss: 0.0955 - learning_rate: 6.5610e-04\n",
      "Epoch 6/20\n",
      "500/500 - 11s - 22ms/step - accuracy: 0.9519 - loss: 0.1616 - val_accuracy: 0.9925 - val_loss: 0.0319 - learning_rate: 5.9049e-04\n",
      "Epoch 7/20\n",
      "500/500 - 11s - 22ms/step - accuracy: 0.9524 - loss: 0.1573 - val_accuracy: 0.9725 - val_loss: 0.0770 - learning_rate: 5.3144e-04\n",
      "Epoch 8/20\n",
      "500/500 - 12s - 23ms/step - accuracy: 0.9604 - loss: 0.1348 - val_accuracy: 0.9875 - val_loss: 0.0413 - learning_rate: 4.7830e-04\n",
      "Epoch 9/20\n",
      "500/500 - 11s - 22ms/step - accuracy: 0.9604 - loss: 0.1373 - val_accuracy: 0.9900 - val_loss: 0.0454 - learning_rate: 4.3047e-04\n",
      "Epoch 10/20\n",
      "500/500 - 8s - 15ms/step - accuracy: 0.9660 - loss: 0.1136 - val_accuracy: 0.9875 - val_loss: 0.0359 - learning_rate: 3.8742e-04\n",
      "Epoch 11/20\n",
      "500/500 - 11s - 22ms/step - accuracy: 0.9643 - loss: 0.1119 - val_accuracy: 0.9900 - val_loss: 0.0460 - learning_rate: 3.4868e-04\n",
      "Epoch 12/20\n",
      "500/500 - 11s - 22ms/step - accuracy: 0.9696 - loss: 0.1086 - val_accuracy: 0.9925 - val_loss: 0.0360 - learning_rate: 3.1381e-04\n",
      "Epoch 13/20\n",
      "500/500 - 11s - 22ms/step - accuracy: 0.9720 - loss: 0.0975 - val_accuracy: 0.9900 - val_loss: 0.0307 - learning_rate: 2.8243e-04\n",
      "Epoch 14/20\n",
      "500/500 - 11s - 22ms/step - accuracy: 0.9718 - loss: 0.0919 - val_accuracy: 0.9925 - val_loss: 0.0295 - learning_rate: 2.5419e-04\n",
      "Epoch 15/20\n",
      "500/500 - 8s - 16ms/step - accuracy: 0.9742 - loss: 0.0899 - val_accuracy: 0.9900 - val_loss: 0.0333 - learning_rate: 2.2877e-04\n",
      "Epoch 16/20\n",
      "500/500 - 11s - 21ms/step - accuracy: 0.9766 - loss: 0.0762 - val_accuracy: 0.9875 - val_loss: 0.0430 - learning_rate: 2.0589e-04\n",
      "Epoch 17/20\n",
      "500/500 - 11s - 21ms/step - accuracy: 0.9770 - loss: 0.0838 - val_accuracy: 0.9925 - val_loss: 0.0329 - learning_rate: 1.8530e-04\n",
      "Epoch 18/20\n",
      "500/500 - 11s - 22ms/step - accuracy: 0.9764 - loss: 0.0763 - val_accuracy: 0.9900 - val_loss: 0.0384 - learning_rate: 1.6677e-04\n",
      "Epoch 19/20\n",
      "500/500 - 11s - 21ms/step - accuracy: 0.9765 - loss: 0.0776 - val_accuracy: 0.9950 - val_loss: 0.0174 - learning_rate: 1.5009e-04\n",
      "Epoch 20/20\n",
      "500/500 - 8s - 15ms/step - accuracy: 0.9781 - loss: 0.0766 - val_accuracy: 0.9950 - val_loss: 0.0241 - learning_rate: 1.3509e-04\n"
     ]
    }
   ],
   "source": [
    "hist = model.fit(datagen.flow(x_train, y_train, batch_size=16),\n",
    "                           steps_per_epoch=500,\n",
    "                           epochs=20,\n",
    "                           verbose=2, \n",
    "                           validation_data=(x_val[:400,:], y_val[:400,:]),\n",
    "                           callbacks=[annealer])"
   ]
  },
  {
   "cell_type": "code",
   "execution_count": 16,
   "id": "f5540fc3",
   "metadata": {
    "execution": {
     "iopub.execute_input": "2024-07-18T09:52:12.371604Z",
     "iopub.status.busy": "2024-07-18T09:52:12.371201Z",
     "iopub.status.idle": "2024-07-18T09:52:13.524651Z",
     "shell.execute_reply": "2024-07-18T09:52:13.523182Z"
    },
    "papermill": {
     "duration": 1.170362,
     "end_time": "2024-07-18T09:52:13.527211",
     "exception": false,
     "start_time": "2024-07-18T09:52:12.356849",
     "status": "completed"
    },
    "tags": []
   },
   "outputs": [
    {
     "name": "stdout",
     "output_type": "stream",
     "text": [
      "Final loss: 0.0230, final accuracy: 0.9931\n"
     ]
    }
   ],
   "source": [
    "final_loss, final_acc = model.evaluate(x_val, y_val, verbose=0)\n",
    "print(\"Final loss: {0:.4f}, final accuracy: {1:.4f}\".format(final_loss, final_acc))"
   ]
  },
  {
   "cell_type": "markdown",
   "id": "a91cbe39",
   "metadata": {
    "papermill": {
     "duration": 0.013339,
     "end_time": "2024-07-18T09:52:13.554075",
     "exception": false,
     "start_time": "2024-07-18T09:52:13.540736",
     "status": "completed"
    },
    "tags": []
   },
   "source": [
    "# **6.3 Evaluate The Model**"
   ]
  },
  {
   "cell_type": "markdown",
   "id": "c3dbcd5b",
   "metadata": {
    "papermill": {
     "duration": 0.013003,
     "end_time": "2024-07-18T09:52:13.580402",
     "exception": false,
     "start_time": "2024-07-18T09:52:13.567399",
     "status": "completed"
    },
    "tags": []
   },
   "source": [
    "* Loss Plot\n",
    "* Accuaracy Plot \n",
    "* Confusion Matrix"
   ]
  },
  {
   "cell_type": "code",
   "execution_count": 17,
   "id": "a46ea0de",
   "metadata": {
    "execution": {
     "iopub.execute_input": "2024-07-18T09:52:13.608657Z",
     "iopub.status.busy": "2024-07-18T09:52:13.608212Z",
     "iopub.status.idle": "2024-07-18T09:52:14.117450Z",
     "shell.execute_reply": "2024-07-18T09:52:14.116332Z"
    },
    "papermill": {
     "duration": 0.526372,
     "end_time": "2024-07-18T09:52:14.119993",
     "exception": false,
     "start_time": "2024-07-18T09:52:13.593621",
     "status": "completed"
    },
    "tags": []
   },
   "outputs": [
    {
     "data": {
      "image/png": "[encoded data removed]",
      "text/plain": [
       "<Figure size 640x480 with 1 Axes>"
      ]
     },
     "metadata": {},
     "output_type": "display_data"
    },
    {
     "data": {
      "image/png": "[encoded data removed]",
      "text/plain": [
       "<Figure size 640x480 with 1 Axes>"
      ]
     },
     "metadata": {},
     "output_type": "display_data"
    }
   ],
   "source": [
    "plt.plot(hist.history['loss'], color='b', label='Training Loss')\n",
    "plt.plot(hist.history['val_loss'], color='r', label='Validation Loss')\n",
    "plt.xlabel('Epochs')\n",
    "plt.ylabel('Loss')\n",
    "plt.legend()\n",
    "plt.show()\n",
    "\n",
    "plt.plot(hist.history['accuracy'], color='b', label='Training Accuracy')\n",
    "plt.plot(hist.history['val_accuracy'], color='r', label='Validation Accuracy')\n",
    "plt.xlabel('Epochs')\n",
    "plt.ylabel('Accuracy')\n",
    "plt.legend()\n",
    "plt.show()"
   ]
  },
  {
   "cell_type": "code",
   "execution_count": 18,
   "id": "1ffe0d0b",
   "metadata": {
    "execution": {
     "iopub.execute_input": "2024-07-18T09:52:14.150193Z",
     "iopub.status.busy": "2024-07-18T09:52:14.149759Z",
     "iopub.status.idle": "2024-07-18T09:52:16.448510Z",
     "shell.execute_reply": "2024-07-18T09:52:16.447145Z"
    },
    "papermill": {
     "duration": 2.318097,
     "end_time": "2024-07-18T09:52:16.452354",
     "exception": false,
     "start_time": "2024-07-18T09:52:14.134257",
     "status": "completed"
    },
    "tags": []
   },
   "outputs": [
    {
     "name": "stdout",
     "output_type": "stream",
     "text": [
      "\u001b[1m132/132\u001b[0m \u001b[32m━━━━━━━━━━━━━━━━━━━━\u001b[0m\u001b[37m\u001b[0m \u001b[1m1s\u001b[0m 10ms/step\n",
      "Confusion Matrix: [[394   0   0   0   0   0   0   0   1   0]\n",
      " [  0 453   1   0   1   0   0   1   0   0]\n",
      " [  0   0 439   3   0   0   0   2   0   0]\n",
      " [  0   0   0 432   0   1   0   0   0   0]\n",
      " [  0   0   0   0 421   0   0   0   0   2]\n",
      " [  0   0   0   2   0 354   1   0   2   1]\n",
      " [  0   0   0   0   0   0 419   0   0   0]\n",
      " [  0   0   0   0   1   0   0 450   0   0]\n",
      " [  0   0   0   0   1   1   0   0 417   2]\n",
      " [  1   0   0   0   3   0   0   0   2 392]]\n"
     ]
    },
    {
     "data": {
      "image/png": "[encoded data removed]",
      "text/plain": [
       "<Figure size 800x600 with 2 Axes>"
      ]
     },
     "metadata": {},
     "output_type": "display_data"
    }
   ],
   "source": [
    "y_hat = model.predict(x_val)\n",
    "y_pred = np.argmax(y_hat, axis=1)\n",
    "y_true = np.argmax(y_val, axis=1)\n",
    "cm = confusion_matrix(y_true, y_pred)\n",
    "print(\"Confusion Matrix:\", cm)\n",
    "\n",
    "plt.figure(figsize=(8, 6))\n",
    "plt.imshow(cm, interpolation='nearest', cmap=plt.cm.Blues)\n",
    "plt.title('Confusion Matrix')\n",
    "plt.colorbar()\n",
    "\n",
    "# Labeling the plot\n",
    "num_classes = len(np.unique(y_true))\n",
    "tick_marks = np.arange(num_classes)\n",
    "plt.xticks(tick_marks, range(num_classes))\n",
    "plt.yticks(tick_marks, range(num_classes))\n",
    "plt.xlabel('Predicted Label')\n",
    "plt.ylabel('True Label')\n",
    "\n",
    "thresh = cm.max() / 2.\n",
    "for i, j in itertools.product(range(cm.shape[0]), range(cm.shape[1])):\n",
    "    plt.text(j, i, format(cm[i, j], 'd'),\n",
    "             horizontalalignment=\"center\",\n",
    "             color=\"white\" if cm[i, j] > thresh else \"black\")\n",
    "\n",
    "plt.tight_layout()\n",
    "plt.show()\n"
   ]
  },
  {
   "cell_type": "markdown",
   "id": "52df68c9",
   "metadata": {
    "papermill": {
     "duration": 0.02546,
     "end_time": "2024-07-18T09:52:16.507469",
     "exception": false,
     "start_time": "2024-07-18T09:52:16.482009",
     "status": "completed"
    },
    "tags": []
   },
   "source": [
    "# **6.4 Test The Model**"
   ]
  },
  {
   "cell_type": "markdown",
   "id": "e2d29255",
   "metadata": {
    "papermill": {
     "duration": 0.028763,
     "end_time": "2024-07-18T09:52:16.569541",
     "exception": false,
     "start_time": "2024-07-18T09:52:16.540778",
     "status": "completed"
    },
    "tags": []
   },
   "source": [
    "* Testing with Test Data\n",
    "* Testing with External Images"
   ]
  },
  {
   "cell_type": "code",
   "execution_count": 19,
   "id": "f5e788ca",
   "metadata": {
    "execution": {
     "iopub.execute_input": "2024-07-18T09:52:16.627171Z",
     "iopub.status.busy": "2024-07-18T09:52:16.626077Z",
     "iopub.status.idle": "2024-07-18T09:52:27.086563Z",
     "shell.execute_reply": "2024-07-18T09:52:27.085572Z"
    },
    "papermill": {
     "duration": 10.483651,
     "end_time": "2024-07-18T09:52:27.088846",
     "exception": false,
     "start_time": "2024-07-18T09:52:16.605195",
     "status": "completed"
    },
    "tags": []
   },
   "outputs": [
    {
     "name": "stdout",
     "output_type": "stream",
     "text": [
      "\u001b[1m875/875\u001b[0m \u001b[32m━━━━━━━━━━━━━━━━━━━━\u001b[0m\u001b[37m\u001b[0m \u001b[1m7s\u001b[0m 9ms/step\n"
     ]
    },
    {
     "data": {
      "image/png": "[encoded data removed]",
      "text/plain": [
       "<Figure size 1200x800 with 5 Axes>"
      ]
     },
     "metadata": {},
     "output_type": "display_data"
    }
   ],
   "source": [
    "test_data = pd.read_csv(\"/kaggle/input/digit-recognizer/test.csv\")\n",
    "\n",
    "# Convert to numpy array and reshape\n",
    "x_test = test_data.values.reshape(-1, 28, 28, 1).astype(\"float32\") / 255.\n",
    "\n",
    "# Make predictions\n",
    "predictions = model.predict(x_test)\n",
    " \n",
    "predicted_classes = np.argmax(predictions, axis=1)\n",
    "random_indices = random.sample(range(len(x_test)), 5)\n",
    "\n",
    "plt.figure(figsize=(12, 8))\n",
    "for i, idx in enumerate(random_indices):\n",
    "    plt.subplot(2, 5, i + 1)\n",
    "    plt.imshow(x_test[idx].reshape(28, 28), cmap='gray')\n",
    "    plt.title(f'Predicted: {predicted_classes[idx]}') \n",
    "    plt.axis('off')\n",
    "\n",
    "plt.tight_layout()\n",
    "plt.show()\n",
    "\n"
   ]
  },
  {
   "cell_type": "code",
   "execution_count": 20,
   "id": "9f454aa6",
   "metadata": {
    "execution": {
     "iopub.execute_input": "2024-07-18T09:52:27.142707Z",
     "iopub.status.busy": "2024-07-18T09:52:27.142336Z",
     "iopub.status.idle": "2024-07-18T09:52:27.605968Z",
     "shell.execute_reply": "2024-07-18T09:52:27.604744Z"
    },
    "papermill": {
     "duration": 0.493647,
     "end_time": "2024-07-18T09:52:27.608615",
     "exception": false,
     "start_time": "2024-07-18T09:52:27.114968",
     "status": "completed"
    },
    "tags": []
   },
   "outputs": [
    {
     "name": "stdout",
     "output_type": "stream",
     "text": [
      "\u001b[1m1/1\u001b[0m \u001b[32m━━━━━━━━━━━━━━━━━━━━\u001b[0m\u001b[37m\u001b[0m \u001b[1m0s\u001b[0m 25ms/step\n"
     ]
    },
    {
     "data": {
      "image/png": "[encoded data removed]",
      "text/plain": [
       "<Figure size 640x480 with 1 Axes>"
      ]
     },
     "metadata": {},
     "output_type": "display_data"
    }
   ],
   "source": [
    "def preprocess_image(image_path):\n",
    "    img = Image.open(image_path)\n",
    "    img = img.resize((28, 28))  \n",
    "    img = img.convert('L') \n",
    "    img_array = np.array(img).reshape(1, 28, 28, 1).astype('float32') / 255.\n",
    "    return img_array\n",
    "\n",
    "def classify_image(image_path):\n",
    "    img_array = preprocess_image(image_path)\n",
    "    if img_array is None:\n",
    "        return\n",
    "    \n",
    "    predictions = model.predict(img_array)\n",
    "    predicted_class = np.argmax(predictions)\n",
    "    \n",
    "    img = Image.open(image_path)\n",
    "    plt.imshow(img, cmap='gray')\n",
    "    plt.title(f'Predicted Class: {predicted_class}')\n",
    "    plt.axis('off')\n",
    "    plt.show()\n",
    "\n",
    "# Example usage\n",
    "image_path = '/kaggle/input/testing-model/WhatsApp Image 2024-07-18 at 10.52.00 AM.jpeg' \n",
    "classify_image(image_path)\n"
   ]
  },
  {
   "cell_type": "markdown",
   "id": "5248170b",
   "metadata": {
    "papermill": {
     "duration": 0.026084,
     "end_time": "2024-07-18T09:52:27.662051",
     "exception": false,
     "start_time": "2024-07-18T09:52:27.635967",
     "status": "completed"
    },
    "tags": []
   },
   "source": [
    "# **7. Submit**\n"
   ]
  },
  {
   "cell_type": "code",
   "execution_count": 21,
   "id": "5ef58325",
   "metadata": {
    "execution": {
     "iopub.execute_input": "2024-07-18T09:52:27.717391Z",
     "iopub.status.busy": "2024-07-18T09:52:27.716954Z",
     "iopub.status.idle": "2024-07-18T09:52:37.358906Z",
     "shell.execute_reply": "2024-07-18T09:52:37.357611Z"
    },
    "papermill": {
     "duration": 9.672671,
     "end_time": "2024-07-18T09:52:37.361463",
     "exception": false,
     "start_time": "2024-07-18T09:52:27.688792",
     "status": "completed"
    },
    "tags": []
   },
   "outputs": [
    {
     "name": "stdout",
     "output_type": "stream",
     "text": [
      "\u001b[1m875/875\u001b[0m \u001b[32m━━━━━━━━━━━━━━━━━━━━\u001b[0m\u001b[37m\u001b[0m \u001b[1m8s\u001b[0m 9ms/step\n",
      "Submission file created.\n"
     ]
    }
   ],
   "source": [
    "test_data = pd.read_csv(\"/kaggle/input/digit-recognizer/test.csv\")\n",
    "x_test = test_data.values.reshape(-1, 28, 28, 1).astype(\"float32\") / 255.\n",
    "predictions = model.predict(x_test)\n",
    "predicted_classes = np.argmax(predictions, axis=1)\n",
    "\n",
    "# Create submission DataFrame\n",
    "submission = pd.DataFrame({\n",
    "    'ImageId': range(1, len(predicted_classes) + 1),\n",
    "    'Label': predicted_classes\n",
    "})\n",
    "\n",
    "submission.to_csv('submission.csv', index=False)\n",
    "print(\"Submission file created.\")"
   ]
  }
 ],
 "metadata": {
  "kaggle": {
   "accelerator": "none",
   "dataSources": [
    {
     "databundleVersionId": 861823,
     "sourceId": 3004,
     "sourceType": "competition"
    },
    {
     "datasetId": 5408529,
     "sourceId": 8981926,
     "sourceType": "datasetVersion"
    },
    {
     "datasetId": 5408886,
     "sourceId": 8982010,
     "sourceType": "datasetVersion"
    }
   ],
   "dockerImageVersionId": 30746,
   "isGpuEnabled": false,
   "isInternetEnabled": true,
   "language": "python",
   "sourceType": "notebook"
  },
  "kernelspec": {
   "display_name": "Python 3",
   "language": "python",
   "name": "python3"
  },
  "language_info": {
   "codemirror_mode": {
    "name": "ipython",
    "version": 3
   },
   "file_extension": ".py",
   "mimetype": "text/x-python",
   "name": "python",
   "nbconvert_exporter": "python",
   "pygments_lexer": "ipython3",
   "version": "3.10.13"
  },
  "papermill": {
   "default_parameters": {},
   "duration": 272.415216,
   "end_time": "2024-07-18T09:52:39.776426",
   "environment_variables": {},
   "exception": null,
   "input_path": "__notebook__.ipynb",
   "output_path": "__notebook__.ipynb",
   "parameters": {},
   "start_time": "2024-07-18T09:48:07.361210",
   "version": "2.5.0"
  }
 },
 "nbformat": 4,
 "nbformat_minor": 5
}
